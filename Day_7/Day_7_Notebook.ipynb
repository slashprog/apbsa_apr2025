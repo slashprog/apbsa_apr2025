{
 "cells": [
  {
   "cell_type": "markdown",
   "id": "6e5063f5",
   "metadata": {},
   "source": [
    "# Advanced Python - Building Scalable Applications\n",
    "\n",
    "### Module 7\n",
    "\n",
    "#### Network socket programming\n",
    " -  Using ```asyncio``` and ```trio``` for concurrent socket programming\n",
    "\n",
    "#### Web (RESTful) API using Python\n",
    " - An overview on RESTful API architecture\n",
    " - Consuming web API using python requests and httpx\n",
    " - An overview on WSGI and ASGI\n",
    " - WSGI / ASGI servers: ```gunicorn``` and ```uvicorn```\n",
    " - An overview on ```starlette``` ASGI framework\n",
    " - Creating and exposing web API using ```FastAPI``` framework\n",
    " - Discovering web APIs using ```/docs``` (Open-API) and ```/redocs``` interface\n",
    " - Creating validating models using ```pydantic```\n",
    " - Security Considerations: Authentication and Authorization techniques\n"
   ]
  },
  {
   "cell_type": "code",
   "execution_count": 4,
   "id": "0d94921f",
   "metadata": {},
   "outputs": [
    {
     "name": "stdout",
     "output_type": "stream",
     "text": [
      "greetings...\n",
      "greetings...\n"
     ]
    }
   ],
   "source": [
    "class User:\n",
    "    def greet(self):\n",
    "        print(\"greetings...\")\n",
    "\n",
    "u = User()\n",
    "u.greet()\n",
    "\n",
    "hasattr(u, \"greet\")\n",
    "g = getattr(u, \"greet\")\n",
    "g()"
   ]
  },
  {
   "cell_type": "code",
   "execution_count": 5,
   "id": "d9dd740c",
   "metadata": {},
   "outputs": [
    {
     "data": {
      "text/plain": [
       "<_io.TextIOWrapper name='/tmp/test.dat' mode='w' encoding='UTF-8'>"
      ]
     },
     "execution_count": 5,
     "metadata": {},
     "output_type": "execute_result"
    }
   ],
   "source": [
    "# Handling binary data over text I/O streams\n",
    "\n",
    "outs = open(\"/tmp/test.dat\", \"w\")\n",
    "outs"
   ]
  },
  {
   "cell_type": "code",
   "execution_count": 15,
   "id": "22aa2a2a",
   "metadata": {},
   "outputs": [],
   "source": [
    "import random\n",
    "import base64 as encoder\n",
    "\n",
    "nums = random.sample(range(255), 10)\n",
    "\n",
    "data = bytes(nums)\n",
    "data\n",
    "\n",
    "#s = str(data, encoding=\"utf8\")  # This fails!\n",
    "\n",
    "s = encoder.b64encode(data).decode(\"utf8\")\n",
    "\n",
    "outs.write(s)\n",
    "outs.close()"
   ]
  },
  {
   "cell_type": "code",
   "execution_count": 17,
   "id": "731c93d9",
   "metadata": {},
   "outputs": [
    {
     "name": "stdout",
     "output_type": "stream",
     "text": [
      "b'\\xa4\\xb1\\xf6A\\x05\\x06a\\x80\\xb2\\xae'\n",
      "[164, 177, 246, 65, 5, 6, 97, 128, 178, 174]\n"
     ]
    }
   ],
   "source": [
    "import base64\n",
    "with open(\"/tmp/test.dat\") as infile:\n",
    "    content = infile.read()\n",
    "\n",
    "data = base64.b64decode(content)\n",
    "print(data)\n",
    "print(list(data))"
   ]
  },
  {
   "cell_type": "markdown",
   "id": "b9c9da4f",
   "metadata": {},
   "source": [
    "#### RESTful architecture (overview)\n",
    "\n",
    "Example:\n",
    "    endpoint: /photos\n",
    "    POST /photos?action=add  -> Create a new resource\n",
    "    GET  /photos?action=list -> Retrieve all photos\n",
    "    POST /photos?action=update&photo_id=112  -> Update a photo \n",
    "    GET  /photos?action=delete&phto_id=112 -> Delete a photo\n",
    "\n",
    "The above semantics does not follow a \"pure\" RESTful architecture pattern - as they embed the actions within a query string\n",
    "\n",
    "In RESTful architecture - we must focus on \"resources\".\n",
    "\n",
    "Resource end-points are of two types:\n",
    "   1. Collection of resources (resource collection endpoints)\n",
    "      - Supported HTTP verbs: GET, POST\n",
    "   2. A singular resource\n",
    "\n",
    "Example:\n",
    " - Resource collection end-points\n",
    "   /photos   # A plural / collective nouns indicate a resource collection\n",
    "             # endpoint\n",
    "   /album    # Another example of a resource collection endpoint\n",
    "\n",
    "   GET /photos # Retrieve all photos as a list\n",
    "   GET /photos?start=10&limit=5  # Retrieve a subset of photos as a list\n",
    "   - The expected return value would always be a list\n",
    "\n",
    "   POST /photos   # Create / Insert / Add a new resource into the\n",
    "                  # collection\n",
    "\n",
    " - Singular resource\n",
    "   /photos/123   # Always ends with a unique id to represent the resource\n",
    "\n",
    "   GET /photos/123 # Retrieve a specific resource based on the id\n",
    "   DELETE /photos/123 # Delete a specific resource based on the id\n",
    "   PUT /photos/123    # Replace a resource for the given id\n",
    "   PATCH /photos/123  # Update a resource for the given id\n",
    "\n",
    "\n",
    "\n"
   ]
  },
  {
   "cell_type": "code",
   "execution_count": 32,
   "id": "39a42073",
   "metadata": {},
   "outputs": [
    {
     "name": "stdout",
     "output_type": "stream",
     "text": [
      "Getting weather for lat=13.0836939, lon=80.270186\n",
      "34.06\n"
     ]
    }
   ],
   "source": [
    "# OpenWeatherMap GeoCoding API example\n",
    "\n",
    "API_KEY = \"932c152d6ff8d185bfdd9d2a5f8e33e4\"\n",
    "\n",
    "owm_gc_ep = \"http://api.openweathermap.org/geo/1.0/direct\"\n",
    "owm_gc_params = {\n",
    "    \"q\": \"Chennai\", \n",
    "    \"limit\": \"1\", \n",
    "    \"appid\": API_KEY\n",
    "}\n",
    "\n",
    "#owm_wm_ep = \"https://api.openweathermap.org/data/3.0/onecall\"\n",
    "owm_wm_ep = \"https://api.openweathermap.org/data/2.5/weather\"\n",
    "owm_wm_params = {\n",
    "    \"appid\": API_KEY,\n",
    "    \"units\": \"metric\",\n",
    "}\n",
    "\n",
    "import requests\n",
    "\n",
    "res = requests.get(owm_gc_ep, params=owm_gc_params)\n",
    "if res.ok and \"application/json\" in res.headers[\"Content-Type\"]:\n",
    "    data = res.json()\n",
    "    #print(data)\n",
    "    lat, lon = data[0][\"lat\"], data[0][\"lon\"]\n",
    "    print(f\"Getting weather for {lat=}, {lon=}\")\n",
    "\n",
    "    owm_wm_params[\"lat\"] = lat\n",
    "    owm_wm_params[\"lon\"] = lon\n",
    "\n",
    "res = requests.get(owm_wm_ep, params=owm_wm_params)\n",
    "if res.ok and \"application/json\" in res.headers[\"Content-Type\"]:\n",
    "    data = res.json()\n",
    "    #print(data)\n",
    "    print(data[\"main\"][\"temp\"])\n"
   ]
  },
  {
   "cell_type": "markdown",
   "id": "684824b1",
   "metadata": {},
   "source": []
  },
  {
   "cell_type": "code",
   "execution_count": 30,
   "id": "ab32fa99",
   "metadata": {},
   "outputs": [
    {
     "data": {
      "text/plain": [
       "b'{\"cod\":401, \"message\": \"Please note that using One Call 3.0 requires a separate subscription to the One Call by Call plan. Learn more here https://openweathermap.org/price. If you have a valid subscription to the One Call by Call plan, but still receive this error, then please see https://openweathermap.org/faq#error401 for more info.\"}'"
      ]
     },
     "execution_count": 30,
     "metadata": {},
     "output_type": "execute_result"
    }
   ],
   "source": [
    "res.content"
   ]
  },
  {
   "cell_type": "code",
   "execution_count": 22,
   "id": "2e4a77a9",
   "metadata": {},
   "outputs": [
    {
     "data": {
      "text/plain": [
       "200"
      ]
     },
     "execution_count": 22,
     "metadata": {},
     "output_type": "execute_result"
    }
   ],
   "source": [
    "res.status_code"
   ]
  },
  {
   "cell_type": "code",
   "execution_count": 23,
   "id": "409c20d8",
   "metadata": {},
   "outputs": [
    {
     "data": {
      "text/plain": [
       "{'Server': 'openresty', 'Date': 'Tue, 15 Apr 2025 05:54:24 GMT', 'Content-Type': 'application/json; charset=utf-8', 'Content-Length': '543', 'Connection': 'keep-alive', 'X-Cache-Key': '/geo/1.0/direct?q=chennai', 'Access-Control-Allow-Origin': '*', 'Access-Control-Allow-Credentials': 'true', 'Access-Control-Allow-Methods': 'GET, POST'}"
      ]
     },
     "execution_count": 23,
     "metadata": {},
     "output_type": "execute_result"
    }
   ],
   "source": [
    "res.headers"
   ]
  },
  {
   "cell_type": "code",
   "execution_count": 24,
   "id": "856b53d9",
   "metadata": {},
   "outputs": [
    {
     "data": {
      "text/plain": [
       "[{'name': 'Chennai',\n",
       "  'local_names': {'fr': 'Chennai',\n",
       "   'pl': 'Ćennaj',\n",
       "   'de': 'Chennai',\n",
       "   'ur': 'چنئی',\n",
       "   'hi': 'चेन्नई',\n",
       "   'ru': 'Ченнаи',\n",
       "   'ml': 'ചെന്നൈ',\n",
       "   'cs': 'Čennaí',\n",
       "   'en': 'Chennai',\n",
       "   'mr': 'चेन्नई',\n",
       "   'ja': 'チェンナイ',\n",
       "   'uk': 'Ченнаї',\n",
       "   'bn': 'চেন্নাই',\n",
       "   'ko': '첸나이',\n",
       "   'he': \"צ'נאי\",\n",
       "   'te': 'చెన్నై',\n",
       "   'lt': 'Čenajus',\n",
       "   'ar': 'تشيناي',\n",
       "   'kn': 'ಚೆನ್ನೈ',\n",
       "   'ta': 'சென்னை',\n",
       "   'tr': 'Madras',\n",
       "   'zh': '金奈'},\n",
       "  'lat': 13.0836939,\n",
       "  'lon': 80.270186,\n",
       "  'country': 'IN',\n",
       "  'state': 'Tamil Nadu'}]"
      ]
     },
     "execution_count": 24,
     "metadata": {},
     "output_type": "execute_result"
    }
   ],
   "source": [
    "res.json()"
   ]
  }
 ],
 "metadata": {
  "kernelspec": {
   "display_name": "base",
   "language": "python",
   "name": "python3"
  },
  "language_info": {
   "codemirror_mode": {
    "name": "ipython",
    "version": 3
   },
   "file_extension": ".py",
   "mimetype": "text/x-python",
   "name": "python",
   "nbconvert_exporter": "python",
   "pygments_lexer": "ipython3",
   "version": "3.12.7"
  }
 },
 "nbformat": 4,
 "nbformat_minor": 5
}
