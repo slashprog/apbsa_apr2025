{
 "cells": [
  {
   "cell_type": "markdown",
   "id": "6e5063f5",
   "metadata": {},
   "source": [
    "# Advanced Python - Building Scalable Applications\n",
    "\n",
    "### Module 7\n",
    "\n",
    "#### Network socket programming\n",
    " -  Using ```asyncio``` and ```trio``` for concurrent socket programming\n",
    "\n",
    "#### Web (RESTful) API using Python\n",
    " - An overview on RESTful API architecture\n",
    " - Consuming web API using python requests and httpx\n",
    " - An overview on WSGI and ASGI\n",
    " - WSGI / ASGI servers: ```gunicorn``` and ```uvicorn```\n",
    " - An overview on ```starlette``` ASGI framework\n",
    " - Creating and exposing web API using ```FastAPI``` framework\n",
    " - Discovering web APIs using ```/docs``` (Open-API) and ```/redocs``` interface\n",
    " - Creating validating models using ```pydantic```\n",
    " - Security Considerations: Authentication and Authorization techniques\n"
   ]
  }
 ],
 "metadata": {
  "kernelspec": {
   "display_name": "base",
   "language": "python",
   "name": "python3"
  },
  "language_info": {
   "name": "python",
   "version": "3.12.7"
  }
 },
 "nbformat": 4,
 "nbformat_minor": 5
}
