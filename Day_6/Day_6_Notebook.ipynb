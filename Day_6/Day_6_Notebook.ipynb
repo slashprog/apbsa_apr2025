{
 "cells": [
  {
   "cell_type": "markdown",
   "id": "16b53a99",
   "metadata": {},
   "source": [
    "# Advanced Python - Building Scalable Applications\n",
    "\n",
    "### Module 6\n",
    "\n",
    "#### Network socket API (overview)\n",
    " - An overview of the ```socket``` module\n",
    " - Creating network servers and clients using ```socket``` module\n",
    " - Techniques for handling concurrent connections\n",
    " - Using ```asyncio``` for concurrent socket programming\n",
    "\n",
    "#### Profiling and Debugging Techniques in Python\n",
    " - Using `cProfile` and `timeit` modules\n",
    " - Using `line_profiler` and `Memray`\n"
   ]
  }
 ],
 "metadata": {
  "language_info": {
   "name": "python"
  }
 },
 "nbformat": 4,
 "nbformat_minor": 5
}
