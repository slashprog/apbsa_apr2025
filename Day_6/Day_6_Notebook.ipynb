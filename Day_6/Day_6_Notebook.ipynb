{
 "cells": [
  {
   "cell_type": "markdown",
   "id": "16b53a99",
   "metadata": {},
   "source": [
    "# Advanced Python - Building Scalable Applications\n",
    "\n",
    "### Module 6\n",
    "\n",
    "#### Network socket API (overview)\n",
    " - An overview of the ```socket``` module\n",
    " - Creating network servers and clients using ```socket``` module\n",
    " - Techniques for handling concurrent connections\n",
    " - Using ```asyncio``` for concurrent socket programming\n",
    "\n",
    "#### Profiling and Debugging Techniques in Python\n",
    " - Using `cProfile` and `timeit` modules\n",
    " - Using `line_profiler` and `Memray`\n"
   ]
  },
  {
   "cell_type": "code",
   "execution_count": 9,
   "id": "9c920306",
   "metadata": {},
   "outputs": [
    {
     "name": "stdout",
     "output_type": "stream",
     "text": [
      "Getting name property\n",
      "John\n",
      "Changing name to Sam\n",
      "Getting name property\n",
      "Sam\n"
     ]
    }
   ],
   "source": [
    "class User:\n",
    "    \n",
    "    def __init__(self, name=\"John\"):\n",
    "        self.__name = name\n",
    "\n",
    "    @property\n",
    "    def name(self):\n",
    "        print(\"Getting name property\")\n",
    "        return self.__name\n",
    "\n",
    "    @name.setter\n",
    "    def name(self, n):\n",
    "        print(\"Changing name to\", n)\n",
    "        self.__name = n\n",
    "        \n",
    "\n",
    "u = User()\n",
    "print(u.name)\n",
    "\n",
    "u.name = \"Sam\"\n",
    "print(u.name)"
   ]
  },
  {
   "cell_type": "code",
   "execution_count": 11,
   "id": "f2ff4fce",
   "metadata": {},
   "outputs": [
    {
     "ename": "RuntimeError",
     "evalue": "cannot set daemon status of active thread",
     "output_type": "error",
     "traceback": [
      "\u001b[0;31m---------------------------------------------------------------------------\u001b[0m",
      "\u001b[0;31mRuntimeError\u001b[0m                              Traceback (most recent call last)",
      "Cell \u001b[0;32mIn[11], line 7\u001b[0m\n\u001b[1;32m      5\u001b[0m t\u001b[38;5;241m.\u001b[39mdaemon \u001b[38;5;241m=\u001b[39m \u001b[38;5;28;01mTrue\u001b[39;00m\n\u001b[1;32m      6\u001b[0m t\u001b[38;5;241m.\u001b[39mstart()\n\u001b[0;32m----> 7\u001b[0m t\u001b[38;5;241m.\u001b[39mdaemon \u001b[38;5;241m=\u001b[39m \u001b[38;5;28;01mFalse\u001b[39;00m\n",
      "File \u001b[0;32m/opt/anaconda3/lib/python3.12/threading.py:1258\u001b[0m, in \u001b[0;36mThread.daemon\u001b[0;34m(self, daemonic)\u001b[0m\n\u001b[1;32m   1256\u001b[0m     \u001b[38;5;28;01mraise\u001b[39;00m \u001b[38;5;167;01mRuntimeError\u001b[39;00m(\u001b[38;5;124m'\u001b[39m\u001b[38;5;124mdaemon threads are disabled in this interpreter\u001b[39m\u001b[38;5;124m'\u001b[39m)\n\u001b[1;32m   1257\u001b[0m \u001b[38;5;28;01mif\u001b[39;00m \u001b[38;5;28mself\u001b[39m\u001b[38;5;241m.\u001b[39m_started\u001b[38;5;241m.\u001b[39mis_set():\n\u001b[0;32m-> 1258\u001b[0m     \u001b[38;5;28;01mraise\u001b[39;00m \u001b[38;5;167;01mRuntimeError\u001b[39;00m(\u001b[38;5;124m\"\u001b[39m\u001b[38;5;124mcannot set daemon status of active thread\u001b[39m\u001b[38;5;124m\"\u001b[39m)\n\u001b[1;32m   1259\u001b[0m \u001b[38;5;28mself\u001b[39m\u001b[38;5;241m.\u001b[39m_daemonic \u001b[38;5;241m=\u001b[39m daemonic\n",
      "\u001b[0;31mRuntimeError\u001b[0m: cannot set daemon status of active thread"
     ]
    }
   ],
   "source": [
    "from threading import Thread\n",
    "from time import sleep\n",
    "\n",
    "t = Thread(target=sleep, args=(60,))\n",
    "t.daemon = True\n",
    "t.start()\n",
    "t.daemon = False"
   ]
  },
  {
   "cell_type": "code",
   "execution_count": 25,
   "id": "4115932a",
   "metadata": {},
   "outputs": [
    {
     "name": "stdout",
     "output_type": "stream",
     "text": [
      "<socket.socket fd=73, family=2, type=1, proto=0, laddr=('0.0.0.0', 0)>\n",
      "<socket.socket fd=73, family=2, type=1, proto=0, laddr=('192.168.20.40', 64237), raddr=('192.252.149.39', 80)>\n",
      "('192.252.149.39', 80)\n"
     ]
    }
   ],
   "source": [
    "from socket import socket, AF_INET, SOCK_STREAM\n",
    "\n",
    "sock = socket(AF_INET, SOCK_STREAM)\n",
    "print(sock)\n",
    "sock.connect((\"chandrashekar.info\", 80))\n",
    "print(sock)\n",
    "print(sock.getpeername())"
   ]
  },
  {
   "cell_type": "code",
   "execution_count": 26,
   "id": "cac0b930",
   "metadata": {},
   "outputs": [
    {
     "name": "stdout",
     "output_type": "stream",
     "text": [
      "<_io.TextIOWrapper name=73 mode='r' encoding='UTF-8'> <_io.TextIOWrapper name=73 mode='w' encoding='UTF-8'>\n",
      "HTTP/1.1 400 Bad Request\n",
      "\n",
      "Date: Mon, 14 Apr 2025 04:58:22 GMT\n",
      "\n",
      "Server: Apache\n",
      "\n",
      "Content-Length: 226\n",
      "\n",
      "Connection: close\n",
      "\n",
      "Content-Type: text/html; charset=iso-8859-1\n",
      "\n",
      "\n",
      "\n",
      "<!DOCTYPE HTML PUBLIC \"-//IETF//DTD HTML 2.0//EN\">\n",
      "\n",
      "<html><head>\n",
      "\n",
      "<title>400 Bad Request</title>\n",
      "\n",
      "</head><body>\n",
      "\n",
      "<h1>Bad Request</h1>\n",
      "\n",
      "<p>Your browser sent a request that this server could not understand.<br />\n",
      "\n",
      "</p>\n",
      "\n",
      "</body></html>\n",
      "\n"
     ]
    }
   ],
   "source": [
    "ins = sock.makefile(\"r\")\n",
    "outs = sock.makefile(\"w\")\n",
    "\n",
    "print(ins, outs)\n",
    "\n",
    "outs.write(\"GET / HTTP/1.1\\n\")\n",
    "outs.write(\"Host: chandrashekar.info:80\\n\")\n",
    "outs.flush()\n",
    "\n",
    "for line in ins:\n",
    "    print(line)"
   ]
  },
  {
   "cell_type": "code",
   "execution_count": 27,
   "id": "45c9c867",
   "metadata": {},
   "outputs": [
    {
     "name": "stdout",
     "output_type": "stream",
     "text": [
      "HTTP/1.1 400 Bad Request\n",
      "Date: Mon, 14 Apr 2025 05:03:49 GMT\n",
      "Server: Apache\n",
      "Content-Length: 226\n",
      "Connection: close\n",
      "Content-Type: text/html; charset=iso-8859-1\n",
      "\n",
      "<!DOCTYPE HTML PUBLIC \"-//IETF//DTD HTML 2.0//EN\">\n",
      "<html><head>\n",
      "<title>400 Bad Request</title>\n",
      "</head><body>\n",
      "<h1>Bad Request</h1>\n",
      "<p>Your browser sent a request that this server could not understand.<br />\n",
      "</p>\n",
      "</body></html>\n"
     ]
    }
   ],
   "source": [
    "req = \"\"\"GET / HTTP/1.1\n",
    "Host: www.chandrashekar.info:80\n",
    "User-Agent: Mozilla/5.0 (Macintosh; Intel Mac OS X 10.15; rv:137.0) Gecko/20100101 Firefox/137.0\n",
    "Accept: text/html,application/xhtml+xml,application/xml;q=0.9,*/*;q=0.8\n",
    "Accept-Language: en-US,en;q=0.5\n",
    "Sec-GPC: 1\n",
    "Connection: keep-alive\n",
    "Upgrade-Insecure-Requests: 1\n",
    "Sec-Fetch-Dest: document\n",
    "Sec-Fetch-Mode: navigate\n",
    "Sec-Fetch-Site: cross-site\n",
    "Priority: u=0, i\n",
    "\n",
    "\"\"\"\n",
    "\n",
    "from socket import socket, AF_INET, SOCK_STREAM\n",
    "\n",
    "try:\n",
    "    conn = socket(AF_INET, SOCK_STREAM)\n",
    "    conn.connect((\"www.chandrashekar.info\", 80))\n",
    "    ins, outs = conn.makefile(\"r\"), conn.makefile(\"w\")\n",
    "\n",
    "    outs.write(req)\n",
    "    outs.flush()\n",
    "\n",
    "    for line in ins:\n",
    "        print(line, end=\"\")\n",
    "\n",
    "finally:\n",
    "    ins.close()\n",
    "    outs.close()\n",
    "    conn.close()"
   ]
  }
 ],
 "metadata": {
  "kernelspec": {
   "display_name": "base",
   "language": "python",
   "name": "python3"
  },
  "language_info": {
   "codemirror_mode": {
    "name": "ipython",
    "version": 3
   },
   "file_extension": ".py",
   "mimetype": "text/x-python",
   "name": "python",
   "nbconvert_exporter": "python",
   "pygments_lexer": "ipython3",
   "version": "3.12.7"
  }
 },
 "nbformat": 4,
 "nbformat_minor": 5
}
