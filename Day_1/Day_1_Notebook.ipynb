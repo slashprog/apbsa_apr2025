{
 "cells": [
  {
   "cell_type": "markdown",
   "id": "3cbf64c0",
   "metadata": {},
   "source": [
    "# Advanced Python: Building Scalable Applications"
   ]
  },
  {
   "cell_type": "markdown",
   "id": "d38c57de",
   "metadata": {},
   "source": [
    "## Module 1\n",
    "\n",
    "#### Threads, Processes, Generators and Coroutines\n",
    " - Introduction to generators, coroutines, threads and processes.\n",
    " - Concurrency Vs Parallelism: Choosing generator/coroutines Vs Threads/Processes\n",
    "\n",
    "#### Python ```threading``` module: a deep-dive\n",
    " - Python threading module API\n",
    " - Creating and managing threads.\n",
    " - An overview on threading module.\n",
    " - Using the Thread class and the Timer class.\n",
    " - Active threads Vs. Daemon threads.\n",
    " - Helper functions in the threading module.\n"
   ]
  },
  {
   "cell_type": "markdown",
   "id": "7ba4a8f8",
   "metadata": {},
   "source": [
    "#### Concurrency using Generators"
   ]
  },
  {
   "cell_type": "code",
   "execution_count": 3,
   "id": "f32565ba",
   "metadata": {},
   "outputs": [
    {
     "data": {
      "text/plain": [
       "range(0, 10)"
      ]
     },
     "execution_count": 3,
     "metadata": {},
     "output_type": "execute_result"
    }
   ],
   "source": [
    "r = range(10)\n",
    "r"
   ]
  },
  {
   "cell_type": "code",
   "execution_count": 4,
   "id": "1a011c6b",
   "metadata": {},
   "outputs": [
    {
     "name": "stdout",
     "output_type": "stream",
     "text": [
      "0\n",
      "1\n",
      "2\n",
      "3\n",
      "4\n",
      "5\n",
      "6\n",
      "7\n",
      "8\n",
      "9\n"
     ]
    }
   ],
   "source": [
    "for v in r:\n",
    "    print(v)"
   ]
  },
  {
   "cell_type": "code",
   "execution_count": 6,
   "id": "67511535",
   "metadata": {},
   "outputs": [
    {
     "name": "stdout",
     "output_type": "stream",
     "text": [
      "Start of testfn function...\n",
      "Start of testfn function...\n"
     ]
    },
    {
     "data": {
      "text/plain": [
       "100"
      ]
     },
     "execution_count": 6,
     "metadata": {},
     "output_type": "execute_result"
    }
   ],
   "source": [
    "def testfn():\n",
    "    print(\"Start of testfn function...\")\n",
    "    return 100\n",
    "    print(\"Back inside testfn function...\")\n",
    "\n",
    "testfn()\n",
    "testfn()"
   ]
  },
  {
   "cell_type": "code",
   "execution_count": 8,
   "id": "15fb3407",
   "metadata": {},
   "outputs": [
    {
     "data": {
      "text/plain": [
       "<generator object testfn at 0x1059fbac0>"
      ]
     },
     "execution_count": 8,
     "metadata": {},
     "output_type": "execute_result"
    }
   ],
   "source": [
    "def testfn():\n",
    "    print(\"Start of testfn function...\")\n",
    "    yield 100\n",
    "    print(\"Back inside testfn function...\")\n",
    "\n",
    "g = testfn()\n",
    "g\n"
   ]
  },
  {
   "cell_type": "code",
   "execution_count": 9,
   "id": "e0683191",
   "metadata": {},
   "outputs": [
    {
     "data": {
      "text/plain": [
       "<generator object testfn at 0x1059fbac0>"
      ]
     },
     "execution_count": 9,
     "metadata": {},
     "output_type": "execute_result"
    }
   ],
   "source": [
    "iter(g)"
   ]
  },
  {
   "cell_type": "code",
   "execution_count": 13,
   "id": "16225ca7",
   "metadata": {},
   "outputs": [
    {
     "name": "stdout",
     "output_type": "stream",
     "text": [
      "{33, 11, 44, 22} <class 'set'>\n",
      "33\n",
      "11\n",
      "44\n",
      "22\n"
     ]
    }
   ],
   "source": [
    "a = {11, 22, 33, 44}\n",
    "print(a, type(a))\n",
    "for v in a:\n",
    "    print(v)"
   ]
  },
  {
   "cell_type": "code",
   "execution_count": 18,
   "id": "ab1c65cd",
   "metadata": {},
   "outputs": [
    {
     "name": "stdout",
     "output_type": "stream",
     "text": [
      "[11, 22, 33, 44] <class 'list'>\n",
      "<list_iterator object at 0x105a48280>\n"
     ]
    },
    {
     "data": {
      "text/plain": [
       "11"
      ]
     },
     "execution_count": 18,
     "metadata": {},
     "output_type": "execute_result"
    }
   ],
   "source": [
    "a = [11, 22, 33, 44]\n",
    "print(a, type(a))\n",
    "li = iter(a)\n",
    "print(li)\n",
    "\n",
    "next(li)"
   ]
  },
  {
   "cell_type": "code",
   "execution_count": 22,
   "id": "8c30c9ac",
   "metadata": {},
   "outputs": [
    {
     "ename": "StopIteration",
     "evalue": "",
     "output_type": "error",
     "traceback": [
      "\u001b[31m---------------------------------------------------------------------------\u001b[39m",
      "\u001b[31mStopIteration\u001b[39m                             Traceback (most recent call last)",
      "\u001b[36mCell\u001b[39m\u001b[36m \u001b[39m\u001b[32mIn[22]\u001b[39m\u001b[32m, line 1\u001b[39m\n\u001b[32m----> \u001b[39m\u001b[32m1\u001b[39m \u001b[38;5;28;43mnext\u001b[39;49m\u001b[43m(\u001b[49m\u001b[43mli\u001b[49m\u001b[43m)\u001b[49m\n",
      "\u001b[31mStopIteration\u001b[39m: "
     ]
    }
   ],
   "source": [
    "next(li)"
   ]
  },
  {
   "cell_type": "code",
   "execution_count": 23,
   "id": "00868622",
   "metadata": {},
   "outputs": [
    {
     "name": "stdout",
     "output_type": "stream",
     "text": [
      "11\n",
      "22\n",
      "33\n",
      "44\n",
      "55\n",
      "11\n",
      "22\n",
      "33\n",
      "44\n",
      "55\n"
     ]
    }
   ],
   "source": [
    "a = [11, 22, 33, 44, 55]\n",
    "for v in a:\n",
    "    print(v)\n",
    "\n",
    "# ----\n",
    "iterator = iter(a)\n",
    "try:\n",
    "    while True:\n",
    "        v = next(iterator)\n",
    "        # Body of 'for-loop'\n",
    "        print(v)\n",
    "except StopIteration:\n",
    "    pass\n"
   ]
  },
  {
   "cell_type": "code",
   "execution_count": 24,
   "id": "591eb98c",
   "metadata": {},
   "outputs": [
    {
     "data": {
      "text/plain": [
       "<generator object testfn at 0x1059fb880>"
      ]
     },
     "execution_count": 24,
     "metadata": {},
     "output_type": "execute_result"
    }
   ],
   "source": [
    "def testfn():\n",
    "    print(\"Start of testfn function...\")\n",
    "    yield 100\n",
    "    print(\"Back inside testfn function...\")\n",
    "    yield \"Hello\"\n",
    "    print(\"Back again inside testfn function...\")\n",
    "    yield\n",
    "    print(\"Back one more time inside testfn function...\")\n",
    "    yield\n",
    "    print(\"End of testfn\")\n",
    "\n",
    "g = testfn()\n",
    "g\n"
   ]
  },
  {
   "cell_type": "code",
   "execution_count": 31,
   "id": "352cb4e8",
   "metadata": {},
   "outputs": [
    {
     "name": "stdout",
     "output_type": "stream",
     "text": [
      "Start of testfn function...\n",
      "In for loop: v = 100\n",
      "Back inside testfn function...\n",
      "In for loop: v = Hello\n",
      "Back again inside testfn function...\n",
      "In for loop: v = None\n",
      "Back one more time inside testfn function...\n",
      "In for loop: v = None\n",
      "End of testfn\n"
     ]
    }
   ],
   "source": [
    "for v in testfn():\n",
    "    print(\"In for loop: v =\", v)\n",
    "    "
   ]
  },
  {
   "cell_type": "code",
   "execution_count": 35,
   "id": "04d441e0",
   "metadata": {},
   "outputs": [
    {
     "data": {
      "text/plain": [
       "<generator object testfn at 0x109978d00>"
      ]
     },
     "execution_count": 35,
     "metadata": {},
     "output_type": "execute_result"
    }
   ],
   "source": [
    "def testfn():\n",
    "    print(\"Start of testfn...\")\n",
    "    yield 100\n",
    "    print(\"Back inside testfn...\")\n",
    "    return 200\n",
    "\n",
    "g = testfn()\n",
    "g"
   ]
  },
  {
   "cell_type": "code",
   "execution_count": 38,
   "id": "cd195767",
   "metadata": {},
   "outputs": [
    {
     "name": "stdout",
     "output_type": "stream",
     "text": [
      "Start of testfn...\n",
      "100\n",
      "Back inside testfn...\n"
     ]
    }
   ],
   "source": [
    "for v in testfn():\n",
    "    print(v)"
   ]
  },
  {
   "cell_type": "code",
   "execution_count": 40,
   "id": "e97c0ec5",
   "metadata": {},
   "outputs": [
    {
     "name": "stdout",
     "output_type": "stream",
     "text": [
      "0 1 1 2 3 5 8 13 21 34 "
     ]
    }
   ],
   "source": [
    "def fib(n):\n",
    "    a, b = 0, 1\n",
    "    for _ in range(n):\n",
    "        print(a, end=\" \")\n",
    "        a, b = b, a + b\n",
    "\n",
    "fib(10) # 0 1 1 2 3 5 8 13 21 34"
   ]
  },
  {
   "cell_type": "code",
   "execution_count": null,
   "id": "f6050593",
   "metadata": {},
   "outputs": [
    {
     "name": "stdout",
     "output_type": "stream",
     "text": [
      "0 0\n",
      "1 1\n",
      "1 1\n",
      "2 4\n",
      "3 9\n",
      "5 25\n",
      "8 64\n",
      "13 169\n",
      "21 441\n",
      "34 1156\n"
     ]
    }
   ],
   "source": [
    "def fib_list(n): # This is reusable - but not concurrent!\n",
    "    series = [0, 1]\n",
    "    for _ in range(n-2):\n",
    "        series.append(series[-1] + series[-2])\n",
    "    return series\n",
    "\n",
    "fib_list(10) # [0, 1, 1, 2, 3, 5, 8, 13, 21, 34]\n",
    "\n",
    "for i in fib_list(10):\n",
    "    print(i, i*i)"
   ]
  },
  {
   "cell_type": "code",
   "execution_count": 42,
   "id": "637e3381",
   "metadata": {},
   "outputs": [
    {
     "name": "stdout",
     "output_type": "stream",
     "text": [
      "Start...\n",
      "0 0\n",
      "1 1\n",
      "1 1\n",
      "2 4\n",
      "3 9\n",
      "5 25\n",
      "8 64\n",
      "13 169\n",
      "21 441\n",
      "34 1156\n"
     ]
    }
   ],
   "source": [
    "from time import sleep\n",
    "\n",
    "def fib_list(n): # This is reusable - but not concurrent!\n",
    "    series = [0, 1]\n",
    "    for _ in range(n-2):\n",
    "        sleep(1)\n",
    "        series.append(series[-1] + series[-2])\n",
    "    return series\n",
    "\n",
    "#fib_list(10) # [0, 1, 1, 2, 3, 5, 8, 13, 21, 34]\n",
    "\n",
    "print(\"Start...\")\n",
    "for i in fib_list(10):\n",
    "    print(i, i*i)"
   ]
  },
  {
   "cell_type": "code",
   "execution_count": 43,
   "id": "9f97f0ed",
   "metadata": {},
   "outputs": [
    {
     "name": "stdout",
     "output_type": "stream",
     "text": [
      "Start...\n",
      "0 0\n",
      "1 1\n",
      "1 1\n",
      "2 4\n",
      "3 9\n",
      "5 25\n",
      "8 64\n",
      "13 169\n",
      "21 441\n",
      "34 1156\n"
     ]
    }
   ],
   "source": [
    "from time import sleep\n",
    "\n",
    "def fib_gen(n): # This is reusable and concurrent!\n",
    "    a, b = 0, 1\n",
    "    for _ in range(n):\n",
    "        sleep(1)\n",
    "        yield a\n",
    "        a, b = b, a + b\n",
    "\n",
    "print(\"Start...\")\n",
    "for i in fib_gen(10):\n",
    "    print(i, i*i)"
   ]
  },
  {
   "cell_type": "markdown",
   "id": "65134d42",
   "metadata": {},
   "source": [
    "#### Coroutines\n",
    "Coroutines - are units of execution within a program that allows asynchronous execution with the aid of an event loop\n"
   ]
  }
 ],
 "metadata": {
  "kernelspec": {
   "display_name": "Python 3 (ipykernel)",
   "language": "python",
   "name": "python3"
  },
  "language_info": {
   "codemirror_mode": {
    "name": "ipython",
    "version": 3
   },
   "file_extension": ".py",
   "mimetype": "text/x-python",
   "name": "python",
   "nbconvert_exporter": "python",
   "pygments_lexer": "ipython3",
   "version": "3.13.2"
  }
 },
 "nbformat": 4,
 "nbformat_minor": 5
}
