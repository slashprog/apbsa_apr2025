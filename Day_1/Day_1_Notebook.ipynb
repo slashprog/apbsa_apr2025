{
 "cells": [
  {
   "cell_type": "markdown",
   "id": "3cbf64c0",
   "metadata": {},
   "source": [
    "# Advanced Python: Building Scalable Applications"
   ]
  },
  {
   "cell_type": "markdown",
   "id": "d38c57de",
   "metadata": {},
   "source": [
    "## Module 1\n",
    "\n",
    "#### Threads, Processes, Generators and Coroutines\n",
    " - Introduction to generators, coroutines, threads and processes.\n",
    " - Concurrency Vs Parallelism: Choosing generator/coroutines Vs Threads/Processes\n",
    "\n",
    "#### Python ```threading``` module: a deep-dive\n",
    " - Python threading module API\n",
    " - Creating and managing threads.\n",
    " - An overview on threading module.\n",
    " - Using the Thread class and the Timer class.\n",
    " - Active threads Vs. Daemon threads.\n",
    " - Helper functions in the threading module.\n"
   ]
  }
 ],
 "metadata": {
  "kernelspec": {
   "display_name": "Python 3 (ipykernel)",
   "language": "python",
   "name": "python3"
  },
  "language_info": {
   "codemirror_mode": {
    "name": "ipython",
    "version": 3
   },
   "file_extension": ".py",
   "mimetype": "text/x-python",
   "name": "python",
   "nbconvert_exporter": "python",
   "pygments_lexer": "ipython3",
   "version": "3.13.2"
  }
 },
 "nbformat": 4,
 "nbformat_minor": 5
}
