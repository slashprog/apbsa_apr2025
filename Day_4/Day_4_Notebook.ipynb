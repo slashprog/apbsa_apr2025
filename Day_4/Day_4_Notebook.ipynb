{
 "cells": [
  {
   "cell_type": "markdown",
   "id": "6f853db7",
   "metadata": {},
   "source": [
    "# Advanced Python - Building Scalable Applications\n",
    "\n",
    "### Module 4\n",
    "\n",
    "#### Synchronization mechanisms for threads and processes\n",
    " - Synchronizing flow-control using ```Barrier```\n",
    " - Mutual exclusion patterns using ```Lock``` and ```RLock```\n",
    " - Wait/notify patterns using ```Condition``` and ```Event```\n",
    " - Bandwidth/Resource management and control using ```Semaphore``` and ```BoundedSemaphore```\n",
    " - Producer/Consumer patterns using ```Queue```\n",
    " - Using ```threading.local()``` to manage thread-local data\n",
    "\n",
    "#### Sharing and Exchanging data between processes (Overview)\n",
    " - Streaming data using ```Pipe``` and ```Queue```\n",
    " - Sharing counters and buffers using ```Value``` and ```Array```\n",
    " - Sharing python lists and dictionaries using ```Manager```\n",
    " - Creating and managing shared memory using ```multiprocessing.shared_memory``` features\n"
   ]
  }
 ],
 "metadata": {
  "language_info": {
   "name": "python"
  }
 },
 "nbformat": 4,
 "nbformat_minor": 5
}
