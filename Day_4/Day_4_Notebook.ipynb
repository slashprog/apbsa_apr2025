{
 "cells": [
  {
   "cell_type": "markdown",
   "id": "6f853db7",
   "metadata": {},
   "source": [
    "# Advanced Python - Building Scalable Applications\n",
    "\n",
    "### Module 4\n",
    "\n",
    "#### Synchronization mechanisms for threads and processes\n",
    " - Synchronizing flow-control using ```Barrier```\n",
    " - Mutual exclusion patterns using ```Lock``` and ```RLock```\n",
    " - Wait/notify patterns using ```Condition``` and ```Event```\n",
    " - Bandwidth/Resource management and control using ```Semaphore``` and ```BoundedSemaphore```\n",
    " - Producer/Consumer patterns using ```Queue```\n",
    " - Using ```threading.local()``` to manage thread-local data\n",
    "\n",
    "#### Sharing and Exchanging data between processes (Overview)\n",
    " - Streaming data using ```Pipe``` and ```Queue```\n",
    " - Sharing counters and buffers using ```Value``` and ```Array```\n",
    " - Sharing python lists and dictionaries using ```Manager```\n",
    " - Creating and managing shared memory using ```multiprocessing.shared_memory``` features\n"
   ]
  },
  {
   "cell_type": "code",
   "execution_count": 4,
   "id": "6f9db7a5",
   "metadata": {},
   "outputs": [
    {
     "name": "stdout",
     "output_type": "stream",
     "text": [
      "[16, 49, 169, 16129, 289, 1936, 1024, 1444]\n",
      "[16, 49, 169, 16129, 289, 1936, 1024, 1444]\n",
      "[7, 13, 127, 17]\n",
      "[7, 13, 127, 17]\n"
     ]
    }
   ],
   "source": [
    "a = [4, 7, 13, 127, 17, 44, 32, 38]\n",
    "print(list(map(lambda x: x*x, a)))\n",
    "print([ x*x for x in a])\n",
    "\n",
    "print(list(filter(lambda x: x % 2, a)))\n",
    "print([ v for v in a if v % 2])"
   ]
  },
  {
   "cell_type": "code",
   "execution_count": 5,
   "id": "38ee1d89",
   "metadata": {},
   "outputs": [],
   "source": [
    "def is_prime(n):\n",
    "    for i in range(2, int(n ** 0.5 ) + 1):\n",
    "        if n % i == 0:\n",
    "            return False\n",
    "    return True  \n",
    "    "
   ]
  },
  {
   "cell_type": "code",
   "execution_count": 8,
   "id": "bb33502d",
   "metadata": {},
   "outputs": [
    {
     "data": {
      "text/plain": [
       "[7, 13, 127, 17]"
      ]
     },
     "execution_count": 8,
     "metadata": {},
     "output_type": "execute_result"
    }
   ],
   "source": [
    "a = [4, 7, 13, 127, 17, 44, 32, 38]\n",
    "\n",
    "list(map(is_prime, a))\n",
    "list(filter(is_prime, a))"
   ]
  },
  {
   "cell_type": "code",
   "execution_count": 12,
   "id": "1c1bee82",
   "metadata": {},
   "outputs": [
    {
     "name": "stdout",
     "output_type": "stream",
     "text": [
      "[4, 7, 13, 127, 17, 44, 32, 38]\n",
      "[False, True, True, True, True, False, False, False]\n"
     ]
    },
    {
     "data": {
      "text/plain": [
       "[7, 13, 127, 17]"
      ]
     },
     "execution_count": 12,
     "metadata": {},
     "output_type": "execute_result"
    }
   ],
   "source": [
    "a = [4, 7, 13, 127, 17, 44, 32, 38]\n",
    "\n",
    "b = list(map(is_prime, a))\n",
    "print(a, b, sep=\"\\n\")\n",
    "[ x for x, y in zip(a, b) if y]\n"
   ]
  },
  {
   "cell_type": "code",
   "execution_count": null,
   "id": "51208313",
   "metadata": {},
   "outputs": [],
   "source": [
    "def sfilter(fn, data):\n",
    "    r = map(fn, data)\n",
    "    return [ x for x, y in zip(data, r) if y]\n",
    "    \n",
    "def pfilter(fn, data, nworkers):\n",
    "    pass # TODO: implement a parallel map + filter and return the resultant list"
   ]
  },
  {
   "cell_type": "code",
   "execution_count": 21,
   "id": "f78d0763",
   "metadata": {},
   "outputs": [
    {
     "data": {
      "text/plain": [
       "[9, 15, 16, 3, 5, 8, 12, 17, 4, 11]"
      ]
     },
     "execution_count": 21,
     "metadata": {},
     "output_type": "execute_result"
    }
   ],
   "source": [
    "import random\n",
    "\n",
    "random.sample(range(2, 20), 10)"
   ]
  },
  {
   "cell_type": "code",
   "execution_count": 22,
   "id": "60fc4b2f",
   "metadata": {},
   "outputs": [],
   "source": [
    "from threading import Barrier\n",
    "b = Barrier(2)"
   ]
  },
  {
   "cell_type": "code",
   "execution_count": 25,
   "id": "4c7b0892",
   "metadata": {},
   "outputs": [
    {
     "ename": "BrokenBarrierError",
     "evalue": "",
     "output_type": "error",
     "traceback": [
      "\u001b[0;31m---------------------------------------------------------------------------\u001b[0m",
      "\u001b[0;31mBrokenBarrierError\u001b[0m                        Traceback (most recent call last)",
      "Cell \u001b[0;32mIn[25], line 1\u001b[0m\n\u001b[0;32m----> 1\u001b[0m b\u001b[38;5;241m.\u001b[39mwait(timeout\u001b[38;5;241m=\u001b[39m\u001b[38;5;241m5\u001b[39m)\n",
      "File \u001b[0;32m/opt/anaconda3/lib/python3.12/threading.py:725\u001b[0m, in \u001b[0;36mBarrier.wait\u001b[0;34m(self, timeout)\u001b[0m\n\u001b[1;32m    722\u001b[0m         \u001b[38;5;28mself\u001b[39m\u001b[38;5;241m.\u001b[39m_release()\n\u001b[1;32m    723\u001b[0m     \u001b[38;5;28;01melse\u001b[39;00m:\n\u001b[1;32m    724\u001b[0m         \u001b[38;5;66;03m# We wait until someone releases us\u001b[39;00m\n\u001b[0;32m--> 725\u001b[0m         \u001b[38;5;28mself\u001b[39m\u001b[38;5;241m.\u001b[39m_wait(timeout)\n\u001b[1;32m    726\u001b[0m     \u001b[38;5;28;01mreturn\u001b[39;00m index\n\u001b[1;32m    727\u001b[0m \u001b[38;5;28;01mfinally\u001b[39;00m:\n",
      "File \u001b[0;32m/opt/anaconda3/lib/python3.12/threading.py:763\u001b[0m, in \u001b[0;36mBarrier._wait\u001b[0;34m(self, timeout)\u001b[0m\n\u001b[1;32m    760\u001b[0m \u001b[38;5;28;01mif\u001b[39;00m \u001b[38;5;129;01mnot\u001b[39;00m \u001b[38;5;28mself\u001b[39m\u001b[38;5;241m.\u001b[39m_cond\u001b[38;5;241m.\u001b[39mwait_for(\u001b[38;5;28;01mlambda\u001b[39;00m : \u001b[38;5;28mself\u001b[39m\u001b[38;5;241m.\u001b[39m_state \u001b[38;5;241m!=\u001b[39m \u001b[38;5;241m0\u001b[39m, timeout):\n\u001b[1;32m    761\u001b[0m     \u001b[38;5;66;03m#timed out.  Break the barrier\u001b[39;00m\n\u001b[1;32m    762\u001b[0m     \u001b[38;5;28mself\u001b[39m\u001b[38;5;241m.\u001b[39m_break()\n\u001b[0;32m--> 763\u001b[0m     \u001b[38;5;28;01mraise\u001b[39;00m BrokenBarrierError\n\u001b[1;32m    764\u001b[0m \u001b[38;5;28;01mif\u001b[39;00m \u001b[38;5;28mself\u001b[39m\u001b[38;5;241m.\u001b[39m_state \u001b[38;5;241m<\u001b[39m \u001b[38;5;241m0\u001b[39m:\n\u001b[1;32m    765\u001b[0m     \u001b[38;5;28;01mraise\u001b[39;00m BrokenBarrierError\n",
      "\u001b[0;31mBrokenBarrierError\u001b[0m: "
     ]
    }
   ],
   "source": [
    "b.wait(timeout=5)"
   ]
  },
  {
   "cell_type": "markdown",
   "id": "49697807",
   "metadata": {},
   "source": [
    "NOTES about Lock and RLock:\n",
    "  - Both Lock and RLock follow strict mutex discipline\n",
    "    That is, when a thread/process acquires a Lock successfully, it becomes the owner.\n",
    "    Now, *only* the owner can release a lock.\n",
    "    Therefor - A thread/process cannot release a lock that it did not acquire\n",
    "\n",
    " - The difference between Lock and RLock:\n",
    "    - The owner can acquire an RLock multiple times. But the same owner must release the lock as many times it acquired, for threads to successfully acquire the lock.\n",
    "    - If a Lock is attempted to be acquired multiple times by the same thread - it will deadlock (self-referential dead-lock)\n",
    "    "
   ]
  },
  {
   "cell_type": "code",
   "execution_count": 28,
   "id": "a6036b71",
   "metadata": {},
   "outputs": [],
   "source": [
    "from threading import current_thread"
   ]
  },
  {
   "cell_type": "code",
   "execution_count": 35,
   "id": "1035597b",
   "metadata": {},
   "outputs": [
    {
     "name": "stdout",
     "output_type": "stream",
     "text": [
      "<unlocked _thread.RLock object owner=0 count=0 at 0x118a3fac0>\n",
      "<locked _thread.RLock object owner=8662894656 count=1 at 0x118a3fac0>\n",
      "<locked _thread.RLock object owner=8662894656 count=2 at 0x118a3fac0> True 2\n",
      "<locked _thread.RLock object owner=8662894656 count=1 at 0x118a3fac0>\n",
      "<unlocked _thread.RLock object owner=0 count=0 at 0x118a3fac0>\n"
     ]
    },
    {
     "ename": "RuntimeError",
     "evalue": "cannot release un-acquired lock",
     "output_type": "error",
     "traceback": [
      "\u001b[0;31m---------------------------------------------------------------------------\u001b[0m",
      "\u001b[0;31mRuntimeError\u001b[0m                              Traceback (most recent call last)",
      "Cell \u001b[0;32mIn[35], line 16\u001b[0m\n\u001b[1;32m     14\u001b[0m rl\u001b[38;5;241m.\u001b[39mrelease()\n\u001b[1;32m     15\u001b[0m \u001b[38;5;28mprint\u001b[39m(rl)\n\u001b[0;32m---> 16\u001b[0m rl\u001b[38;5;241m.\u001b[39mrelease()\n",
      "\u001b[0;31mRuntimeError\u001b[0m: cannot release un-acquired lock"
     ]
    }
   ],
   "source": [
    "from threading import RLock\n",
    "\n",
    "rl = RLock()\n",
    "print(rl)\n",
    "\n",
    "rl.acquire()\n",
    "print(rl)\n",
    "\n",
    "rl.acquire()\n",
    "print(rl, rl._is_owned(), rl._recursion_count())\n",
    "rl.release()\n",
    "print(rl)\n",
    "\n",
    "rl.release()\n",
    "print(rl)\n",
    "rl.release()\n"
   ]
  },
  {
   "cell_type": "code",
   "execution_count": 30,
   "id": "603a49ec",
   "metadata": {},
   "outputs": [
    {
     "data": {
      "text/plain": [
       "True"
      ]
     },
     "execution_count": 30,
     "metadata": {},
     "output_type": "execute_result"
    }
   ],
   "source": [
    "rl._is_owned()"
   ]
  },
  {
   "cell_type": "code",
   "execution_count": null,
   "id": "bf6adce3",
   "metadata": {},
   "outputs": [],
   "source": [
    "a = [1, 2, 3]\n",
    "a[0] += 1  # This operation is not atomic, must be scaffolded within a Lock for multiple threads\n",
    "\n"
   ]
  },
  {
   "cell_type": "markdown",
   "id": "7689bd55",
   "metadata": {},
   "source": [
    "### Events\n",
    "Used notifying \"state-changes\" amongst threads."
   ]
  },
  {
   "cell_type": "code",
   "execution_count": 41,
   "id": "1eafc432",
   "metadata": {},
   "outputs": [
    {
     "name": "stdout",
     "output_type": "stream",
     "text": [
      "False\n",
      "True\n",
      "True\n",
      "True\n",
      "False\n",
      "False\n",
      "False\n"
     ]
    }
   ],
   "source": [
    "from threading import Event\n",
    "\n",
    "e = Event()   # Initialize a new event and set it to False\n",
    "print(e.is_set())\n",
    "\n",
    "e.set()\n",
    "print(e.is_set())\n",
    "\n",
    "e.set()\n",
    "print(e.is_set())\n",
    "\n",
    "e.set()\n",
    "print(e.is_set())\n",
    "\n",
    "e.clear()\n",
    "print(e.is_set())\n",
    "\n",
    "print(e.wait(timeout=5))\n",
    "print(e.is_set())\n"
   ]
  },
  {
   "cell_type": "code",
   "execution_count": 42,
   "id": "824f1eb9",
   "metadata": {},
   "outputs": [],
   "source": [
    "from threading import Thread, current_thread as current, Event\n",
    "\n",
    "stats = { }\n",
    "stats_event = Event()\n",
    "\n",
    "def read_stats():\n",
    "    stats_event.wait()\n",
    "    for k, v in stats.items():\n",
    "        print(f\"{current().name}: {k=}, {v=}\")\n",
    "\n",
    "def update_stats():\n",
    "    stats[\"test\"] = 100\n",
    "    stats[\"temp\"] = \"temp data\"\n",
    "    stats_event.set()\n",
    "\n",
    "\n",
    "t1 = Thread(target=read_stats)\n",
    "t2 = Thread(target=read_stats)\n",
    "t3 = Thread(target=update_stats)\n",
    "\n",
    "t1.start()\n",
    "t2.start()\n"
   ]
  },
  {
   "cell_type": "code",
   "execution_count": 43,
   "id": "5a82bbdb",
   "metadata": {},
   "outputs": [
    {
     "name": "stdout",
     "output_type": "stream",
     "text": [
      "Thread-118 (read_stats): k='test', v=100Thread-119 (read_stats): k='test', v=100\n",
      "Thread-119 (read_stats): k='temp', v='temp data'\n",
      "\n",
      "Thread-118 (read_stats): k='temp', v='temp data'\n"
     ]
    }
   ],
   "source": [
    "t3.start()"
   ]
  },
  {
   "cell_type": "code",
   "execution_count": 47,
   "id": "0204078e",
   "metadata": {},
   "outputs": [
    {
     "name": "stdout",
     "output_type": "stream",
     "text": [
      "MainThread: k='test', v=100\n",
      "MainThread: k='temp', v='temp data'\n"
     ]
    }
   ],
   "source": [
    "read_stats()"
   ]
  },
  {
   "cell_type": "code",
   "execution_count": 48,
   "id": "96bbc9b0",
   "metadata": {},
   "outputs": [],
   "source": [
    "from threading import Thread, Event\n",
    "from time import sleep\n",
    "\n",
    "run_counter = Event()\n",
    "\n",
    "def simple_counter():\n",
    "    import itertools\n",
    "    for i in itertools.count():\n",
    "        if run_counter.wait():\n",
    "            print(\"Counting\", i)\n",
    "            sleep(2)\n",
    "\n",
    "t = Thread(target=simple_counter)\n",
    "t.start()"
   ]
  },
  {
   "cell_type": "code",
   "execution_count": 53,
   "id": "19f0f0a2",
   "metadata": {},
   "outputs": [
    {
     "name": "stdout",
     "output_type": "stream",
     "text": [
      "Counting 17\n"
     ]
    },
    {
     "name": "stdout",
     "output_type": "stream",
     "text": [
      "Counting 18\n",
      "Counting 19\n",
      "Counting 20\n",
      "Counting 21\n",
      "Counting 22\n"
     ]
    }
   ],
   "source": [
    "run_counter.set()"
   ]
  },
  {
   "cell_type": "code",
   "execution_count": 54,
   "id": "9a0fe3d3",
   "metadata": {},
   "outputs": [],
   "source": [
    "run_counter.clear()"
   ]
  },
  {
   "cell_type": "markdown",
   "id": "737b6637",
   "metadata": {},
   "source": [
    "#### Semaphore\n",
    "Used for limit band-width / access to a resource to a limited number of threads (based on a count)\n",
    "\n",
    "A semaphore is initialized with a count (that acts as a limit)\n",
    "\n",
    "A semaphore can be acquired initially upto the 'count' number of times (based on the initial count)\n",
    "\n",
    "But a semaphore can be released as many number of times irrespective of its 'count'\n",
    "\n",
    "Ultimately, a semaphore can be acquired at-least as many times it was last released.\n",
    "\n",
    "This kind of a semaphore is often times referred to - as an \"unbounded\" semaphore.\n",
    "\n",
    "#### There are three types of Semaphores:\n",
    "  1. Counting Semaphore (semaphore's initial count > 1)\n",
    "  2. Binary Semaphore (semaphore's initial count == 1)\n",
    "  3. Null Semaphore (semaphore's initial count == 0)"
   ]
  },
  {
   "cell_type": "markdown",
   "id": "29f03c03",
   "metadata": {},
   "source": [
    "#### Demonstration of ```queue.Queue```"
   ]
  },
  {
   "cell_type": "code",
   "execution_count": 55,
   "id": "6d15c55c",
   "metadata": {},
   "outputs": [
    {
     "name": "stdout",
     "output_type": "stream",
     "text": [
      "Thread-189 (reader): Waiting on queue.Thread-192 (reader): Waiting on queue.\n",
      "Thread-193 (reader): Waiting on queue.\n",
      "Thread-190 (reader): Waiting on queue.\n",
      "\n",
      "Thread-191 (reader): Waiting on queue.\n"
     ]
    }
   ],
   "source": [
    "from queue import Queue\n",
    "from threading import Thread, Event, current_thread as current\n",
    "from time import sleep\n",
    "\n",
    "cancel = Event()\n",
    "\n",
    "def reader(q):\n",
    "    t = current()\n",
    "    while not cancel.wait(5):\n",
    "        print(f\"{t.name}: Waiting on queue.\")\n",
    "        v = q.get()\n",
    "        print(f\"{t.name}: Processing {v}\")\n",
    "\n",
    "\n",
    "workers = []\n",
    "queue = Queue(10)\n",
    "for i in range(5):\n",
    "    w = Thread(target=reader, args=(queue,))\n",
    "    workers.append(w)\n",
    "    w.start()\n"
   ]
  },
  {
   "cell_type": "code",
   "execution_count": null,
   "id": "20f073fb",
   "metadata": {},
   "outputs": [
    {
     "name": "stdout",
     "output_type": "stream",
     "text": [
      "Thread-193 (reader): Processing 100\n"
     ]
    },
    {
     "name": "stdout",
     "output_type": "stream",
     "text": [
      "Thread-189 (reader): Waiting on queue.\n",
      "Thread-191 (reader): Waiting on queue.\n",
      "Thread-192 (reader): Waiting on queue.\n",
      "Thread-193 (reader): Waiting on queue.\n"
     ]
    }
   ],
   "source": [
    "queue.put(100)"
   ]
  }
 ],
 "metadata": {
  "kernelspec": {
   "display_name": "base",
   "language": "python",
   "name": "python3"
  },
  "language_info": {
   "codemirror_mode": {
    "name": "ipython",
    "version": 3
   },
   "file_extension": ".py",
   "mimetype": "text/x-python",
   "name": "python",
   "nbconvert_exporter": "python",
   "pygments_lexer": "ipython3",
   "version": "3.12.7"
  }
 },
 "nbformat": 4,
 "nbformat_minor": 5
}
