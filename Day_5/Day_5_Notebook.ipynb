{
 "cells": [
  {
   "cell_type": "markdown",
   "id": "1eb0bba1",
   "metadata": {},
   "source": [
    "# Advanced Python - Building Scalable Applications\n",
    "\n",
    "### Module 5\n",
    "\n",
    "#### Sharing and Exchanging data between processes\n",
    " - Streaming data using ```Pipe``` and ```Queue```\n",
    " - Sharing counters and buffers using ```Value``` and ```Array```\n",
    " - Sharing python lists and dictionaries using ```Manager```\n",
    " - Creating and managing shared memory using ```multiprocessing.shared_memory``` features\n",
    "\n",
    "#### Profiling and Debugging Techniques in Python\n",
    " - Using `sys.getsizeof()`, `sys.getrefcount()`, `system.getswitchinterval()`\n",
    " - Using `cProfile` and `timeit` modules\n",
    " - Using `line_profiler` and `Memray`\n",
    " - Using `inspect` and `pdb`\n",
    " - Using the `logging` module"
   ]
  },
  {
   "cell_type": "code",
   "execution_count": null,
   "id": "343b5580",
   "metadata": {},
   "outputs": [],
   "source": [
    "from queue import Queue\n",
    "\n",
    "q = Queue(10)\n"
   ]
  },
  {
   "cell_type": "code",
   "execution_count": 1,
   "id": "2ecd8ede",
   "metadata": {},
   "outputs": [
    {
     "name": "stdout",
     "output_type": "stream",
     "text": [
      "\u001b[0;31mSignature:\u001b[0m \u001b[0mQueue\u001b[0m\u001b[0;34m(\u001b[0m\u001b[0mmaxsize\u001b[0m\u001b[0;34m=\u001b[0m\u001b[0;36m0\u001b[0m\u001b[0;34m)\u001b[0m\u001b[0;34m\u001b[0m\u001b[0;34m\u001b[0m\u001b[0m\n",
      "\u001b[0;31mDocstring:\u001b[0m Returns a queue object\n",
      "\u001b[0;31mFile:\u001b[0m      /opt/anaconda3/lib/python3.12/multiprocessing/context.py\n",
      "\u001b[0;31mType:\u001b[0m      method"
     ]
    }
   ],
   "source": [
    "from multiprocessing import Queue\n",
    "\n",
    "Queue?"
   ]
  },
  {
   "cell_type": "code",
   "execution_count": 8,
   "id": "933f8856",
   "metadata": {},
   "outputs": [
    {
     "name": "stdout",
     "output_type": "stream",
     "text": [
      "<multiprocessing.connection.Connection object at 0x109a50050> <multiprocessing.connection.Connection object at 0x109a52b40>\n"
     ]
    },
    {
     "data": {
      "text/plain": [
       "'Hello, world'"
      ]
     },
     "execution_count": 8,
     "metadata": {},
     "output_type": "execute_result"
    }
   ],
   "source": [
    "from multiprocessing import Pipe\n",
    "\n",
    "r, w = Pipe()\n",
    "print(r, w)\n",
    "\n",
    "w.send(\"Hello, world\")\n",
    "r.recv()"
   ]
  },
  {
   "cell_type": "code",
   "execution_count": 6,
   "id": "5d2cb4d9",
   "metadata": {},
   "outputs": [
    {
     "name": "stdout",
     "output_type": "stream",
     "text": [
      "Hello world\n"
     ]
    }
   ],
   "source": [
    "# The pseudo-implementation of Pipe() construct:\n",
    "\n",
    "class Connection:\n",
    "    def __init__(self, queue):\n",
    "        self.queue = queue\n",
    "    \n",
    "    def send(self, data):\n",
    "        self.queue.append(data)\n",
    "\n",
    "    def recv(self):\n",
    "        return self.queue.popleft()\n",
    "\n",
    "class Pipe:\n",
    "    def __new__(cls, *args, **kwargs):\n",
    "        from collections import deque\n",
    "        queue = deque()\n",
    "        c1 = Connection(queue)\n",
    "        c2 = Connection(queue)\n",
    "        return c1, c2\n",
    "\n",
    "r, w = Pipe()\n",
    "\n",
    "w.send(\"Hello world\")\n",
    "\n",
    "print(r.recv())\n"
   ]
  },
  {
   "cell_type": "markdown",
   "id": "ace1bf1d",
   "metadata": {},
   "source": [
    "#### Queue vs Pipe in multiprocessing module\n",
    "\n",
    "- ```Queue``` acts a multiprocessing equivalent of ```queue.Queue``` for Processes.\n",
    "- Use ```Queue``` for creating capacity-limiting streaming between processes (producer/consumer patterns using processes)\n",
    "\n",
    "- ```Pipe``` is a Python's abstraction to underlying OS anonymous pipes / FIFOs\n",
    "- Use ```Pipe``` for streaming large volumes of data from one process to another where the synchronization / flow-control is fully managed by the OS. E.g: streaming data amongst processes."
   ]
  },
  {
   "cell_type": "markdown",
   "id": "92be0c15",
   "metadata": {},
   "source": [
    "#### ```Value``` class in multiprocessing module\n",
    "\n",
    "- ```Value``` can be used to share a single number (int, float) amongst processes."
   ]
  },
  {
   "cell_type": "code",
   "execution_count": 21,
   "id": "a9299cb5",
   "metadata": {},
   "outputs": [
    {
     "data": {
      "text/plain": [
       "-127"
      ]
     },
     "execution_count": 21,
     "metadata": {},
     "output_type": "execute_result"
    }
   ],
   "source": [
    "from multiprocessing import Value\n",
    "\n",
    "v = Value(\"b\", 129)\n",
    "v.value"
   ]
  },
  {
   "cell_type": "code",
   "execution_count": 15,
   "id": "947adbe5",
   "metadata": {},
   "outputs": [
    {
     "name": "stdout",
     "output_type": "stream",
     "text": [
      "3468237462378642387462378462387462384762347823648723647823647823647823647823462378423784\n"
     ]
    }
   ],
   "source": [
    "n = 3468237462378642387462378462387462384762347823648723647823647823647823647823462378423784\n",
    "print(n)"
   ]
  }
 ],
 "metadata": {
  "kernelspec": {
   "display_name": "base",
   "language": "python",
   "name": "python3"
  },
  "language_info": {
   "codemirror_mode": {
    "name": "ipython",
    "version": 3
   },
   "file_extension": ".py",
   "mimetype": "text/x-python",
   "name": "python",
   "nbconvert_exporter": "python",
   "pygments_lexer": "ipython3",
   "version": "3.12.7"
  }
 },
 "nbformat": 4,
 "nbformat_minor": 5
}
