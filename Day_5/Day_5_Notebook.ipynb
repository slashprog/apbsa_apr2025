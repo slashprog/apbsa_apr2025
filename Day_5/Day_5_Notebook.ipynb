{
 "cells": [
  {
   "cell_type": "markdown",
   "id": "1eb0bba1",
   "metadata": {},
   "source": [
    "# Advanced Python - Building Scalable Applications\n",
    "\n",
    "### Module 5\n",
    "\n",
    "#### Sharing and Exchanging data between processes\n",
    " - Streaming data using ```Pipe``` and ```Queue```\n",
    " - Sharing counters and buffers using ```Value``` and ```Array```\n",
    " - Sharing python lists and dictionaries using ```Manager```\n",
    " - Creating and managing shared memory using ```multiprocessing.shared_memory``` features\n",
    "\n",
    "#### Profiling and Debugging Techniques in Python\n",
    " - Using `sys.getsizeof()`, `sys.getrefcount()`, `system.getswitchinterval()`\n",
    " - Using `cProfile` and `timeit` modules\n",
    " - Using `line_profiler` and `Memray`\n",
    " - Using `inspect` and `pdb`\n",
    " - Using the `logging` module"
   ]
  },
  {
   "cell_type": "code",
   "execution_count": null,
   "id": "343b5580",
   "metadata": {},
   "outputs": [],
   "source": [
    "from queue import Queue\n",
    "\n",
    "q = Queue(10)\n"
   ]
  },
  {
   "cell_type": "code",
   "execution_count": 1,
   "id": "2ecd8ede",
   "metadata": {},
   "outputs": [
    {
     "name": "stdout",
     "output_type": "stream",
     "text": [
      "\u001b[0;31mSignature:\u001b[0m \u001b[0mQueue\u001b[0m\u001b[0;34m(\u001b[0m\u001b[0mmaxsize\u001b[0m\u001b[0;34m=\u001b[0m\u001b[0;36m0\u001b[0m\u001b[0;34m)\u001b[0m\u001b[0;34m\u001b[0m\u001b[0;34m\u001b[0m\u001b[0m\n",
      "\u001b[0;31mDocstring:\u001b[0m Returns a queue object\n",
      "\u001b[0;31mFile:\u001b[0m      /opt/anaconda3/lib/python3.12/multiprocessing/context.py\n",
      "\u001b[0;31mType:\u001b[0m      method"
     ]
    }
   ],
   "source": [
    "from multiprocessing import Queue\n",
    "\n",
    "Queue?"
   ]
  }
 ],
 "metadata": {
  "kernelspec": {
   "display_name": "base",
   "language": "python",
   "name": "python3"
  },
  "language_info": {
   "codemirror_mode": {
    "name": "ipython",
    "version": 3
   },
   "file_extension": ".py",
   "mimetype": "text/x-python",
   "name": "python",
   "nbconvert_exporter": "python",
   "pygments_lexer": "ipython3",
   "version": "3.12.7"
  }
 },
 "nbformat": 4,
 "nbformat_minor": 5
}
