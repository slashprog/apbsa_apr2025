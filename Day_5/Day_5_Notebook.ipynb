{
 "cells": [
  {
   "cell_type": "markdown",
   "id": "1eb0bba1",
   "metadata": {},
   "source": [
    "# Advanced Python - Building Scalable Applications\n",
    "\n",
    "### Module 5\n",
    "\n",
    "#### Sharing and Exchanging data between processes\n",
    " - Streaming data using ```Pipe``` and ```Queue```\n",
    " - Sharing counters and buffers using ```Value``` and ```Array```\n",
    " - Sharing python lists and dictionaries using ```Manager```\n",
    " - Creating and managing shared memory using ```multiprocessing.shared_memory``` features\n",
    "\n",
    "#### Profiling and Debugging Techniques in Python\n",
    " - Using `sys.getsizeof()`, `sys.getrefcount()`, `system.getswitchinterval()`\n",
    " - Using `cProfile` and `timeit` modules\n",
    " - Using `line_profiler` and `Memray`\n",
    " - Using `inspect` and `pdb`\n",
    " - Using the `logging` module"
   ]
  },
  {
   "cell_type": "code",
   "execution_count": null,
   "id": "343b5580",
   "metadata": {},
   "outputs": [],
   "source": [
    "from queue import Queue\n",
    "\n",
    "q = Queue(10)\n"
   ]
  },
  {
   "cell_type": "code",
   "execution_count": 1,
   "id": "2ecd8ede",
   "metadata": {},
   "outputs": [
    {
     "name": "stdout",
     "output_type": "stream",
     "text": [
      "\u001b[0;31mSignature:\u001b[0m \u001b[0mQueue\u001b[0m\u001b[0;34m(\u001b[0m\u001b[0mmaxsize\u001b[0m\u001b[0;34m=\u001b[0m\u001b[0;36m0\u001b[0m\u001b[0;34m)\u001b[0m\u001b[0;34m\u001b[0m\u001b[0;34m\u001b[0m\u001b[0m\n",
      "\u001b[0;31mDocstring:\u001b[0m Returns a queue object\n",
      "\u001b[0;31mFile:\u001b[0m      /opt/anaconda3/lib/python3.12/multiprocessing/context.py\n",
      "\u001b[0;31mType:\u001b[0m      method"
     ]
    }
   ],
   "source": [
    "from multiprocessing import Queue\n",
    "\n",
    "Queue?"
   ]
  },
  {
   "cell_type": "code",
   "execution_count": 8,
   "id": "933f8856",
   "metadata": {},
   "outputs": [
    {
     "name": "stdout",
     "output_type": "stream",
     "text": [
      "<multiprocessing.connection.Connection object at 0x109a50050> <multiprocessing.connection.Connection object at 0x109a52b40>\n"
     ]
    },
    {
     "data": {
      "text/plain": [
       "'Hello, world'"
      ]
     },
     "execution_count": 8,
     "metadata": {},
     "output_type": "execute_result"
    }
   ],
   "source": [
    "from multiprocessing import Pipe\n",
    "\n",
    "r, w = Pipe()\n",
    "print(r, w)\n",
    "\n",
    "w.send(\"Hello, world\")\n",
    "r.recv()"
   ]
  },
  {
   "cell_type": "code",
   "execution_count": 6,
   "id": "5d2cb4d9",
   "metadata": {},
   "outputs": [
    {
     "name": "stdout",
     "output_type": "stream",
     "text": [
      "Hello world\n"
     ]
    }
   ],
   "source": [
    "# The pseudo-implementation of Pipe() construct:\n",
    "\n",
    "class Connection:\n",
    "    def __init__(self, queue):\n",
    "        self.queue = queue\n",
    "    \n",
    "    def send(self, data):\n",
    "        self.queue.append(data)\n",
    "\n",
    "    def recv(self):\n",
    "        return self.queue.popleft()\n",
    "\n",
    "class Pipe:\n",
    "    def __new__(cls, *args, **kwargs):\n",
    "        from collections import deque\n",
    "        queue = deque()\n",
    "        c1 = Connection(queue)\n",
    "        c2 = Connection(queue)\n",
    "        return c1, c2\n",
    "\n",
    "r, w = Pipe()\n",
    "\n",
    "w.send(\"Hello world\")\n",
    "\n",
    "print(r.recv())\n"
   ]
  },
  {
   "cell_type": "markdown",
   "id": "ace1bf1d",
   "metadata": {},
   "source": [
    "#### Queue vs Pipe in multiprocessing module\n",
    "\n",
    "- ```Queue``` acts a multiprocessing equivalent of ```queue.Queue``` for Processes.\n",
    "- Use ```Queue``` for creating capacity-limiting streaming between processes (producer/consumer patterns using processes)\n",
    "\n",
    "- ```Pipe``` is a Python's abstraction to underlying OS anonymous pipes / FIFOs\n",
    "- Use ```Pipe``` for streaming large volumes of data from one process to another where the synchronization / flow-control is fully managed by the OS. E.g: streaming data amongst processes."
   ]
  },
  {
   "cell_type": "markdown",
   "id": "92be0c15",
   "metadata": {},
   "source": [
    "#### ```Value``` class in multiprocessing module\n",
    "\n",
    "- ```Value``` can be used to share a single number (int, float) amongst processes."
   ]
  },
  {
   "cell_type": "code",
   "execution_count": 21,
   "id": "a9299cb5",
   "metadata": {},
   "outputs": [
    {
     "data": {
      "text/plain": [
       "-127"
      ]
     },
     "execution_count": 21,
     "metadata": {},
     "output_type": "execute_result"
    }
   ],
   "source": [
    "from multiprocessing import Value\n",
    "\n",
    "v = Value(\"b\", 129)\n",
    "v.value"
   ]
  },
  {
   "cell_type": "code",
   "execution_count": 15,
   "id": "947adbe5",
   "metadata": {},
   "outputs": [
    {
     "name": "stdout",
     "output_type": "stream",
     "text": [
      "3468237462378642387462378462387462384762347823648723647823647823647823647823462378423784\n"
     ]
    }
   ],
   "source": [
    "n = 3468237462378642387462378462387462384762347823648723647823647823647823647823462378423784\n",
    "print(n)"
   ]
  },
  {
   "cell_type": "markdown",
   "id": "8a76b589",
   "metadata": {},
   "source": [
    "The ```array.array``` is a sequence of *homogenous* data in Python that implements a buffer protocol (that is, their data is laid out in contiguous memory locations)\n"
   ]
  },
  {
   "cell_type": "code",
   "execution_count": 28,
   "id": "9734011d",
   "metadata": {},
   "outputs": [
    {
     "name": "stdout",
     "output_type": "stream",
     "text": [
      "array('i', [111, 22, 33, 44, 55, 66]) <class 'array.array'>\n",
      "111 66\n",
      "array('i', [111, 45, 33, 44, 55, 66])\n",
      "array('i', [111, 45, 33, 44, 55, 66, 100])\n",
      "100\n"
     ]
    },
    {
     "ename": "TypeError",
     "evalue": "'float' object cannot be interpreted as an integer",
     "output_type": "error",
     "traceback": [
      "\u001b[0;31m---------------------------------------------------------------------------\u001b[0m",
      "\u001b[0;31mTypeError\u001b[0m                                 Traceback (most recent call last)",
      "Cell \u001b[0;32mIn[28], line 14\u001b[0m\n\u001b[1;32m     11\u001b[0m \u001b[38;5;28mprint\u001b[39m(a)\n\u001b[1;32m     12\u001b[0m \u001b[38;5;28mprint\u001b[39m(a\u001b[38;5;241m.\u001b[39mpop())\n\u001b[0;32m---> 14\u001b[0m a[\u001b[38;5;241m1\u001b[39m] \u001b[38;5;241m=\u001b[39m \u001b[38;5;241m4.5\u001b[39m\n",
      "\u001b[0;31mTypeError\u001b[0m: 'float' object cannot be interpreted as an integer"
     ]
    }
   ],
   "source": [
    "from array import array\n",
    "\n",
    "a = array('i', [111, 22, 33, 44, 55, 66])\n",
    "print(a, type(a))\n",
    "\n",
    "print(a[0], a[-1])\n",
    "\n",
    "a[1] = 45\n",
    "print(a)\n",
    "a.append(100)\n",
    "print(a)\n",
    "print(a.pop())\n",
    "\n",
    "a[1] = 4.5"
   ]
  },
  {
   "cell_type": "markdown",
   "id": "4fd92228",
   "metadata": {},
   "source": [
    "The ```Array``` class in multiprocessing module is a shared-memory equivalent of ```array.array```\n"
   ]
  },
  {
   "cell_type": "code",
   "execution_count": 29,
   "id": "d1a842a3",
   "metadata": {},
   "outputs": [
    {
     "data": {
      "text/plain": [
       "<multiprocessing.managers.SyncManager at 0x10d881be0>"
      ]
     },
     "execution_count": 29,
     "metadata": {},
     "output_type": "execute_result"
    }
   ],
   "source": [
    "from multiprocessing import Manager\n",
    "\n",
    "m = Manager()\n",
    "m"
   ]
  },
  {
   "cell_type": "code",
   "execution_count": 35,
   "id": "aef9569b",
   "metadata": {},
   "outputs": [
    {
     "name": "stdout",
     "output_type": "stream",
     "text": [
      "['name', 'score', 'games'] ['John Doe', 6.7, ['game-1', 'game-2']]\n",
      "name John Doe\n",
      "score 6.7\n",
      "games ['game-1', 'game-2']\n"
     ]
    }
   ],
   "source": [
    "d = m.dict()\n",
    "d[\"name\"] = \"John Doe\"\n",
    "d[\"score\"] = 6.7\n",
    "d[\"games\"] = [\"game-1\", \"game-2\"]\n",
    "\n",
    "dict(d)\n",
    "\n",
    "print(d.keys(), d.values())\n",
    "\n",
    "for k, v in d.items():\n",
    "    print(k, v)"
   ]
  },
  {
   "cell_type": "code",
   "execution_count": 38,
   "id": "fd43067a",
   "metadata": {},
   "outputs": [
    {
     "name": "stdout",
     "output_type": "stream",
     "text": [
      "{'x': 10, 'y': 60, 'c': 254} <class 'dict'>\n",
      "{'x': 10, 'y': 60, 'c': 254} <class 'multiprocessing.managers.DictProxy'>\n"
     ]
    }
   ],
   "source": [
    "a = {\"x\": 10, \"y\": 60, \"c\": 254}\n",
    "print(a, type(a))\n",
    "\n",
    "b = m.dict(a)\n",
    "print(b, type(b))"
   ]
  },
  {
   "cell_type": "code",
   "execution_count": 41,
   "id": "2289cf7e",
   "metadata": {},
   "outputs": [
    {
     "name": "stdout",
     "output_type": "stream",
     "text": [
      "[44, 55, [66, 77], (33, 44), 'hello'] <class 'list'>\n",
      "[44, 55, [66, 77], (33, 44), 'hello'] <class 'multiprocessing.managers.ListProxy'>\n",
      "[123, 55, [66, 77], (33, 44), 'hello', [55, 66, 77, 88]]\n"
     ]
    }
   ],
   "source": [
    "values = [44, 55, [66, 77], (33, 44), \"hello\"]\n",
    "print(values, type(values))\n",
    "\n",
    "v = m.list(values)\n",
    "print(v, type(v))\n",
    "\n",
    "v[0] = 123\n",
    "v.append([55, 66, 77, 88])\n",
    "print(v)"
   ]
  },
  {
   "cell_type": "markdown",
   "id": "bc7ccee5",
   "metadata": {},
   "source": [
    "##### ```multiprocessing.Manager``` to created shared `list` or `dict`\n",
    "  - Provides a shared dictionary or a list amongst multiple processes\n",
    "  - Though this resembles a shared memory, under the hood the list and dict contents are serialized and streamed across process for every update.\n",
    "\n",
    "NOTE: Use this for scenarios where:\n",
    "   1. Updates are generally done by 1 process and other processes are reading.\n",
    "   2. Updates do not happen at rapid rate\n",
    "   "
   ]
  },
  {
   "cell_type": "code",
   "execution_count": 42,
   "id": "55b6f042",
   "metadata": {},
   "outputs": [
    {
     "data": {
      "text/plain": [
       "(<_io.TextIOWrapper name='<stdin>' mode='r' encoding='utf-8'>,\n",
       " <ipykernel.iostream.OutStream at 0x107e066b0>,\n",
       " <ipykernel.iostream.OutStream at 0x108c52590>)"
      ]
     },
     "execution_count": 42,
     "metadata": {},
     "output_type": "execute_result"
    }
   ],
   "source": [
    "import sys\n",
    "sys.stdin, sys.stdout, sys.stderr"
   ]
  },
  {
   "cell_type": "code",
   "execution_count": 43,
   "id": "14c4204f",
   "metadata": {},
   "outputs": [
    {
     "data": {
      "text/plain": [
       "9223372036854775807"
      ]
     },
     "execution_count": 43,
     "metadata": {},
     "output_type": "execute_result"
    }
   ],
   "source": [
    "sys.maxsize"
   ]
  },
  {
   "cell_type": "code",
   "execution_count": 44,
   "id": "85bfc3e8",
   "metadata": {},
   "outputs": [
    {
     "name": "stdout",
     "output_type": "stream",
     "text": [
      "28\n"
     ]
    }
   ],
   "source": [
    "a = 100  # a = int(100)\n",
    "print(sys.getsizeof(a))"
   ]
  },
  {
   "cell_type": "code",
   "execution_count": 48,
   "id": "d385aba5",
   "metadata": {},
   "outputs": [
    {
     "name": "stdout",
     "output_type": "stream",
     "text": [
      "800056\n"
     ]
    }
   ],
   "source": [
    "a = list(range(100000))\n",
    "print(sys.getsizeof(a))"
   ]
  },
  {
   "cell_type": "code",
   "execution_count": 50,
   "id": "775c08e1",
   "metadata": {},
   "outputs": [
    {
     "data": {
      "text/plain": [
       "244"
      ]
     },
     "execution_count": 50,
     "metadata": {},
     "output_type": "execute_result"
    }
   ],
   "source": [
    "a = [10, 20, 56, 78, 99]\n",
    "sys.getsizeof(a) + sum(sys.getsizeof(x) for x in a)"
   ]
  },
  {
   "cell_type": "code",
   "execution_count": 55,
   "id": "682e006e",
   "metadata": {},
   "outputs": [
    {
     "name": "stdout",
     "output_type": "stream",
     "text": [
      "1000000\n"
     ]
    },
    {
     "data": {
      "text/plain": [
       "30758320"
      ]
     },
     "execution_count": 55,
     "metadata": {},
     "output_type": "execute_result"
    }
   ],
   "source": [
    "d = { str(v): v*v for v in range(1_000_000) }\n",
    "print(len(d))\n",
    "\n",
    "d[\"65536\"]\n",
    "\n",
    "sys.getsizeof(d)"
   ]
  },
  {
   "cell_type": "code",
   "execution_count": null,
   "id": "3f0d4be1",
   "metadata": {},
   "outputs": [],
   "source": [
    "sys.getrefcount"
   ]
  },
  {
   "cell_type": "code",
   "execution_count": 62,
   "id": "82368216",
   "metadata": {},
   "outputs": [
    {
     "data": {
      "text/plain": [
       "0.049999999999999996"
      ]
     },
     "execution_count": 62,
     "metadata": {},
     "output_type": "execute_result"
    }
   ],
   "source": [
    "sys.getswitchinterval()"
   ]
  },
  {
   "cell_type": "code",
   "execution_count": 61,
   "id": "b691a4b9",
   "metadata": {},
   "outputs": [],
   "source": [
    "sys.setswitchinterval(0.05)\n",
    "\n",
    "# Reduce the switch interval for more responsive threads (react to events quickly)\n",
    "# Note, that reducing the switch interval would have heavy impact on the throughput.\n",
    "\n",
    "# Increase the switch interval to better throughput.\n"
   ]
  }
 ],
 "metadata": {
  "kernelspec": {
   "display_name": "base",
   "language": "python",
   "name": "python3"
  },
  "language_info": {
   "codemirror_mode": {
    "name": "ipython",
    "version": 3
   },
   "file_extension": ".py",
   "mimetype": "text/x-python",
   "name": "python",
   "nbconvert_exporter": "python",
   "pygments_lexer": "ipython3",
   "version": "3.12.7"
  }
 },
 "nbformat": 4,
 "nbformat_minor": 5
}
