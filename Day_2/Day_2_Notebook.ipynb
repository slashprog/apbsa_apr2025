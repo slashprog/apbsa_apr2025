{
 "cells": [
  {
   "cell_type": "markdown",
   "id": "657b94ac",
   "metadata": {},
   "source": [
    "# Advanced Python - Building Scalable Applications\n",
    "\n",
    "## Module 2\n",
    "\n",
    "#### Python ```threading``` module: a deep-dive\n",
    " - Python threading module API\n",
    " - Creating and managing threads.\n",
    " - An overview on threading module.\n",
    " - Using the Thread class and the Timer class.\n",
    " - Active threads Vs. Daemon threads.\n",
    " - Helper functions in the threading module.\n",
    "\n",
    "#### Exercise: \n",
    " - Implement a ```joinall()``` function to wait for all threads to exit\n",
    "\n",
    " #### Parallel processing using ```multiprocessing``` module\n",
    " - Multitasking using multiprocessing.Process\n",
    " - Process Vs Thread: performance and design implications.\n",
    " - Similarities and differences between ```Process``` and ```Thread``` class API\n",
    " - Helper functions in the ```multiprocessing``` module."
   ]
  },
  {
   "cell_type": "markdown",
   "id": "54b0cb26",
   "metadata": {},
   "source": [
    "### Python ```threading``` module API"
   ]
  },
  {
   "cell_type": "code",
   "execution_count": 2,
   "id": "ab6d4722",
   "metadata": {},
   "outputs": [],
   "source": [
    "from threading import Thread"
   ]
  },
  {
   "cell_type": "markdown",
   "id": "ff7ce6f8",
   "metadata": {},
   "source": [
    "##### ```Thread``` constructor arguments:\n",
    "``` \n",
    "   t = Thread(\n",
    "         group=None,     # Not implemented. Leave it as None\n",
    "         target=None,    # The function to be run as a separate thread\n",
    "         name=None,      # Set the string name of a thread (defaults to Thread-1...)\n",
    "         args=(),        # Positional arguments to target function\n",
    "         kwargs=None,    # Keyword arguments to target function\n",
    "         *,\n",
    "         daemon=None     # Set to True to create a daemon thread\n",
    "   )\n",
    "```\n"
   ]
  },
  {
   "cell_type": "markdown",
   "id": "8f4afc56",
   "metadata": {},
   "source": [
    "#### Important ```Thread``` attributes / methods:\n",
    "```\n",
    "    from threading import Thread\n",
    "    from time import sleep\n",
    "\n",
    "    t = Thread(target=sleep, args=(60,))   # Create a new Thread instance for a function sleep(60)\n",
    "    \n",
    "    t.start()  # Starts the Thread (initializes the thread internally via OS and invokes the run() method as new Thread)\n",
    "    t.join()   # Waits indefinitely until the target function spawned off as a separate thread returns\n",
    "\n",
    "    t.is_alive()  # Returns True if Thread is alive, or False if the thread completed as the target function returned.\n",
    "\n",
    "    t.name   # Returns the name of the Thread as a string. Can be set\n",
    "    t.daemon # Returns True if initialized as a daemon Thread. Can be set before the Thread has started.\n",
    "\n",
    "    t.ident       # Returns a unique number to identify the Thread (on Linux, the pthread_t value)\n",
    "    t.native_id   # Returns the OS-level thread-id (on Linux the tid of the Thread) \n",
    "```\n",
    "\n",
    "#### Obsolete attributes / methods:\n",
    "  ```\n",
    "     t.getName()\n",
    "     t.setName()\n",
    "     t.isDaemon()\n",
    "     t.setDaemon()\n",
    "  ```"
   ]
  },
  {
   "cell_type": "code",
   "execution_count": null,
   "id": "0d282f97",
   "metadata": {},
   "outputs": [],
   "source": [
    "##### Creating a new ```Thread``` class (OO-style threading)\n",
    "\n",
    "from threading import Thread\n",
    "class Counter(Thread):\n",
    "    def __init__(self, count, delay, *args, **kwargs):\n",
    "        super().__init__(*args, **kwargs)  # Python 3.3+\n",
    "        # super(Thread, self).__init__(*args, **kwargs) # Python 3.0 to 3.2\n",
    "        # Thread.__init__(self, *args, **kwargs)\n",
    "        self.count = count\n",
    "        self.delay = delay\n",
    "\n",
    "    def run(self):\n",
    "        from time import sleep\n",
    "        for i in range(self.count):\n",
    "            print(f\"{self.name}: counting {i}\")\n",
    "            sleep(self.delay)\n",
    "\n",
    "if __name__ == '__main__':\n",
    "    c1 = Counter(count=5, delay=2, name=\"Count5\")\n",
    "    c2 = Counter(count=10, delay=1, name=\"Count10\")\n",
    "\n",
    "    c1.start()\n",
    "    c2.start()\n",
    "\n",
    "    c1.join()\n",
    "    c2.join()\n",
    "    "
   ]
  },
  {
   "cell_type": "code",
   "execution_count": null,
   "id": "c0828956",
   "metadata": {},
   "outputs": [],
   "source": [
    "##### Creating a new ```Thread``` to run python function\n",
    "\n",
    "from threading import Thread, current_thread as current\n",
    "\n",
    "def counter(count, delay):\n",
    "    from time import sleep\n",
    "    t = current()  # Returns the thread instance currently running this function\n",
    "    for i in range(count):\n",
    "        print(f\"{t.name}: counting {i}\")\n",
    "        sleep(delay)\n",
    "\n",
    "if __name__ == '__main__':\n",
    "    c1 = Thread(target=counter, name=\"Count5\", args=(5, 2))\n",
    "    c2 = Thread(target=counter, name=\"Count10\", kwargs={\"count\": 10, \"delay\": 1})\n",
    "\n",
    "    c1.start()\n",
    "    c2.start()\n",
    "\n",
    "    c1.join()\n",
    "    c2.join()\n",
    "    "
   ]
  },
  {
   "cell_type": "markdown",
   "id": "f21ce0f1",
   "metadata": {},
   "source": [
    "##### Active Threads vs Daemon Threads\n",
    " - Active Threads keep the python process active. Python process exits when all active threads terminate. By default the main thread of the python process is an active thread, so are threads created and started using ```Thread``` instances when their daemon attribute is not set.\n",
    "\n",
    " - Daemon Threads are automatically terminated when there are no more Active Threads alive in a python process. A daemon thread can be created by setting the ```daemon=True``` argument while constructing the Thread class, or setting the ```.daemon``` attribute to True to a Thread instance before the thread's ```.start()``` method is invoked.\n",
    "\n",
    "##### Common use-cases for Daemon Threads\n",
    " - Heart-beat monitoring threads\n",
    " - Housekeeping / routine cleanup threads\n",
    " - Most daemon threads are designed to run an infinite loop that waits for an event or timed sleep, wakes up and perform a routine activities\n",
    "\n",
    "##### Important notes\n",
    " 1. Caution must be exercised if a daemon thread should be use resources managed by active threads. For example, reading from files which could be closed by active threads can lead to runtime errors in daemon threads that could not be gracefully handled.\n",
    " 2. It is pointless to ```join()``` on a daemon thread as that will keep the active thread alive and waiting until the daemon thread exits."
   ]
  },
  {
   "cell_type": "markdown",
   "id": "098d79de",
   "metadata": {},
   "source": [
    "#### Important helper functions in ```threading``` module:\n",
    "```\n",
    "    threading.current_thread()    # Returns the instance of current Thread\n",
    "    threading.active_count()      # Returns the number of threads alive\n",
    "    threading.enumerate()         # Returns the list of thread instances which are alive\n",
    "    threading.main_thread()       # Returns the instance of the main thread\n",
    "```"
   ]
  },
  {
   "cell_type": "code",
   "execution_count": null,
   "id": "42c4091b",
   "metadata": {},
   "outputs": [],
   "source": []
  }
 ],
 "metadata": {
  "kernelspec": {
   "display_name": "base",
   "language": "python",
   "name": "python3"
  },
  "language_info": {
   "codemirror_mode": {
    "name": "ipython",
    "version": 3
   },
   "file_extension": ".py",
   "mimetype": "text/x-python",
   "name": "python",
   "nbconvert_exporter": "python",
   "pygments_lexer": "ipython3",
   "version": "3.12.7"
  }
 },
 "nbformat": 4,
 "nbformat_minor": 5
}
