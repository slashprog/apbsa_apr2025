{
 "cells": [
  {
   "cell_type": "markdown",
   "id": "86fd3f84",
   "metadata": {},
   "source": [
    "# Advanced Python - Building Scalable Applications\n",
    "\n",
    "## Module 3\n",
    "\n",
    "#### Parallel processing using ```multiprocessing``` module\n",
    " - Creating process pool using ```multiprocessing.Pool```\n",
    " - Parallelizing compute-intensive tasks using ```Pool.map```\n",
    " - Creating thread-pools and process-pools using ```concurrent.futures``` package.\n",
    "\n",
    "#### Synchronization mechanisms for threads and processes\n",
    " - Synchronizing flow-control using ```Barrier```\n",
    " - Mutual exclusion patterns using ```Lock``` and ```RLock```\n",
    " - Wait/notify patterns using ```Condition``` and ```Event```\n",
    " - Bandwidth/Resource management and control using ```Semaphore``` and ```BoundedSemaphore```\n",
    " - Producer/Consumer patterns using ```Queue```\n",
    " - Using ```threading.local()``` to manage thread-local data"
   ]
  },
  {
   "cell_type": "markdown",
   "id": "29dd72ba",
   "metadata": {},
   "source": [
    "#### Capacity planning for process pool.\n",
    " - Process Pools are used primary for parallel processing of CPU intensive jobs\n",
    " - It decouples the target function representing work/job from the actual processes created in the pool (workers)\n",
    " - In order to plan the capacity (number of processes) in a pool, we must consider the following:\n",
    "    - The average duty-cycle of jobs submitted.\n",
    "    - The number of CPUs\n",
    "    - A safe capacity is generally: number_of_cpus / duty_cycle\n",
    "- The duty cycle is the ratio of wall-clock time vs the CPU usage time of a given task\n"
   ]
  }
 ],
 "metadata": {
  "kernelspec": {
   "display_name": "base",
   "language": "python",
   "name": "python3"
  },
  "language_info": {
   "name": "python",
   "version": "3.12.7"
  }
 },
 "nbformat": 4,
 "nbformat_minor": 5
}
