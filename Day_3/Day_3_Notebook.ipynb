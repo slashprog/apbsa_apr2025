{
 "cells": [
  {
   "cell_type": "markdown",
   "id": "86fd3f84",
   "metadata": {},
   "source": [
    "# Advanced Python - Building Scalable Applications\n",
    "\n",
    "## Module 3\n",
    "\n",
    "#### Parallel processing using ```multiprocessing``` module\n",
    " - Creating process pool using ```multiprocessing.Pool```\n",
    " - Parallelizing compute-intensive tasks using ```Pool.map```\n",
    " - Creating thread-pools and process-pools using ```concurrent.futures``` package.\n",
    "\n",
    "#### Synchronization mechanisms for threads and processes\n",
    " - Synchronizing flow-control using ```Barrier```\n",
    " - Mutual exclusion patterns using ```Lock``` and ```RLock```\n",
    " - Wait/notify patterns using ```Condition``` and ```Event```\n",
    " - Bandwidth/Resource management and control using ```Semaphore``` and ```BoundedSemaphore```\n",
    " - Producer/Consumer patterns using ```Queue```\n",
    " - Using ```threading.local()``` to manage thread-local data"
   ]
  }
 ],
 "metadata": {
  "kernelspec": {
   "display_name": "base",
   "language": "python",
   "name": "python3"
  },
  "language_info": {
   "name": "python",
   "version": "3.12.7"
  }
 },
 "nbformat": 4,
 "nbformat_minor": 5
}
